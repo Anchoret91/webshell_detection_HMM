{
 "cells": [
  {
   "cell_type": "code",
   "execution_count": 362,
   "metadata": {},
   "outputs": [],
   "source": [
    "import pandas as pd\n",
    "from pyshark import FileCapture\n",
    "import os"
   ]
  },
  {
   "cell_type": "code",
   "execution_count": 376,
   "metadata": {},
   "outputs": [],
   "source": [
    "file_path = \"/media/HDD/yhk/pcaps/webshell/\""
   ]
  },
  {
   "cell_type": "code",
   "execution_count": 389,
   "metadata": {},
   "outputs": [],
   "source": [
    "def http_analysis(file_path,file_name):\n",
    "    \"\"\"\n",
    "        解析pcap文件中的全部http流量，并且将request和reponse一一对应\n",
    "        \n",
    "    \"\"\"\n",
    "    print(file_path+file_name,\" analysising ...\")\n",
    "    pcaps = FileCapture(file_path+file_name,display_filter=\"http\")\n",
    "\n",
    "    #=========获取request包相关信息==============#\n",
    "    request_list = []\n",
    "    for pkt in pcaps:\n",
    "\n",
    "        if hasattr(pkt,\"http\"):\n",
    "            if hasattr(pkt.http,\"request\"):\n",
    "                request = []\n",
    "                if pkt.http.request_method==\"GET\":\n",
    "                    request.extend([pkt.ip.src,pkt.tcp.srcport,pkt.ip.dst,pkt.tcp.dstport,pkt.http.request_method,pkt.http.request_uri,\"null\"])\n",
    "                if pkt.http.request_method==\"POST\":\n",
    "                    request.extend([pkt.ip.src,pkt.tcp.srcport,pkt.ip.dst,pkt.tcp.dstport,pkt.http.request_method,pkt.http.request_uri,pkt.http.file_data])\n",
    "\n",
    "                request.extend([pkt.tcp.nxtseq,pkt.http.connection])\n",
    "\n",
    "                request_list.append(request)\n",
    "\n",
    "    request_columns = [\"srcIp\",\"srcPort\",\"dstIp\",\"dstPort\",\"request_method\",\"requestURL\",\"requestBodyString\",\"nextseq\",\"connection\"]\n",
    "    request_df = pd.DataFrame(request_list,columns=request_columns)\n",
    "\n",
    "    #==========获取response包相关信息=================#\n",
    "\n",
    "    response_list = []\n",
    "    for pkt in pcaps:\n",
    "\n",
    "        if hasattr(pkt,\"http\"):\n",
    "            if hasattr(pkt.http,\"response\"):\n",
    "                response= []\n",
    "                response.extend([pkt.ip.src,pkt.tcp.srcport,pkt.ip.dst,pkt.tcp.dstport])\n",
    "                response.extend([pkt.http.connection,pkt.tcp.ack,pkt.tcp.flags_push,pkt.http.file_data])\n",
    "                response_list.append(response)\n",
    "\n",
    "    response_columns = [\"srcIp\",\"srcPort\",\"dstIp\",\"dstPort\",\"connnection\",\"ack\",\"push\",\"responseBodyString\"]\n",
    "    response_df = pd.DataFrame(response_list,columns=response_columns)\n",
    "\n",
    "\n",
    "    #==========将response转换成可以进行合并的格式=======#\n",
    "    response_df.columns = [\"dstIp\",\"dstPort\",\"srcIp\",\"srcPort\",\"connnection\",\"nextseq\",\"push\",\"responseBodyString\"]\n",
    "\n",
    "    #============response和request进行合并===========#\n",
    "    df = request_df.merge(response_df,how='left',on=[\"srcIp\",\"srcPort\",\"dstIp\",\"dstPort\",\"nextseq\"])\n",
    "    df.to_csv(\"/media/HDD/yhk/pcaps/webshell_analysis_result/\"+file_name.split(\".\")[0]+\".csv\")\n",
    "    print(file_path+file_name,\" completed!\")\n",
    "    return df"
   ]
  },
  {
   "cell_type": "code",
   "execution_count": 390,
   "metadata": {},
   "outputs": [
    {
     "name": "stdout",
     "output_type": "stream",
     "text": [
      "/media/HDD/yhk/pcaps/webshell/http_test.pcap  analysising ...\n",
      "/media/HDD/yhk/pcaps/webshell/http_test.pcap  completed!\n"
     ]
    }
   ],
   "source": [
    "for dirpath, dirnames, filenames in os.walk(file_path):\n",
    "    for i in range(len(filenames)):       \n",
    "        http_analysis(dirpath,filenames[i])"
   ]
  },
  {
   "cell_type": "code",
   "execution_count": null,
   "metadata": {},
   "outputs": [],
   "source": []
  },
  {
   "cell_type": "code",
   "execution_count": null,
   "metadata": {},
   "outputs": [],
   "source": []
  },
  {
   "cell_type": "code",
   "execution_count": null,
   "metadata": {},
   "outputs": [],
   "source": []
  },
  {
   "cell_type": "code",
   "execution_count": null,
   "metadata": {},
   "outputs": [],
   "source": []
  }
 ],
 "metadata": {
  "kernelspec": {
   "display_name": "Python 3",
   "language": "python",
   "name": "python3"
  },
  "language_info": {
   "codemirror_mode": {
    "name": "ipython",
    "version": 3
   },
   "file_extension": ".py",
   "mimetype": "text/x-python",
   "name": "python",
   "nbconvert_exporter": "python",
   "pygments_lexer": "ipython3",
   "version": "3.5.2"
  }
 },
 "nbformat": 4,
 "nbformat_minor": 2
}
